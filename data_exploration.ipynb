{
 "cells": [
  {
   "cell_type": "markdown",
   "metadata": {},
   "source": [
    "### I have cleaned the data using R and now im looking to use pandas to create exploritory figures."
   ]
  },
  {
   "cell_type": "code",
   "execution_count": 2,
   "metadata": {},
   "outputs": [],
   "source": [
    "import pandas as pd\n",
    "import matplotlib.pyplot as plt\n",
    "import numpy as np"
   ]
  },
  {
   "cell_type": "code",
   "execution_count": 3,
   "metadata": {},
   "outputs": [],
   "source": [
    "proteomics_ack = pd.read_csv(\"data/proteomics_ack.csv\")"
   ]
  },
  {
   "cell_type": "code",
   "execution_count": 4,
   "metadata": {},
   "outputs": [
    {
     "name": "stdout",
     "output_type": "stream",
     "text": [
      "proteomics_ack shape is  (2018, 102)\n",
      "\n",
      "   Unnamed: 0  Index  Index in Detail  Sample2vSample1      Sample3vSample1  \\\n",
      "0           1      2                3         1.700848   1.7805019863310996   \n",
      "1           2      3                4        -1.503863    1.306579795240185   \n",
      "2           3      4                8         1.958863   2.2352086192147267   \n",
      "3           4      5                9        -1.484604  -1.1893749153277526   \n",
      "4           5      6               11         1.419223    1.519303918615512   \n",
      "\n",
      "   Sample3vSample2  Max Abundance  Max % CV Gene Name Protein Name  ...  \\\n",
      "0        -1.043919   4.647579e+07  0.328817      Wdr1         WDR1  ...   \n",
      "1         1.798046   3.058275e+07  0.804888      Wdr1         WDR1  ...   \n",
      "2         1.044168   1.252594e+07  0.414742      Wdr1         WDR1  ...   \n",
      "3         1.142216   6.066070e+07  0.208634      Wdr1         WDR1  ...   \n",
      "4        -1.020821   2.846943e+06  0.600069      Wdr1         WDR1  ...   \n",
      "\n",
      "  Run 1 Sample 2 : Sample 1...92 Run 1 Sample 3 : Sample 1...93  \\\n",
      "0                       2.264360                       2.842615   \n",
      "1                       1.121448                      -1.032004   \n",
      "2                       3.076868                       4.398618   \n",
      "3                      -1.775635                      -1.154287   \n",
      "4                       1.586649                       1.873738   \n",
      "\n",
      "  Run 1 Sample 3 : Sample 2...94 Run 2 Sample 2 : Sample 1...95  \\\n",
      "0                       1.102947                       1.064356   \n",
      "1                      -1.317281                      -1.314529   \n",
      "2                       1.256000                       1.338647   \n",
      "3                       1.351519                      -1.033118   \n",
      "4                       1.037553                      -3.450482   \n",
      "\n",
      "   Run 2 Sample 3 : Sample 1...96 Run 2 Sample 3 : Sample 2...97  \\\n",
      "0                       -1.176076                      -1.227643   \n",
      "1                        1.679024                       2.250493   \n",
      "2                        1.186713                      -1.106293   \n",
      "3                       -1.312495                      -1.245941   \n",
      "4                       -3.419058                            NaN   \n",
      "\n",
      "   Sample 2 : Sample 1...98  Sample 3 : Sample 1...99  \\\n",
      "0                  1.700848                  1.780502   \n",
      "1                 -1.503863                  1.306580   \n",
      "2                  1.958863                  2.235209   \n",
      "3                 -1.484604                 -1.189375   \n",
      "4                  1.419223                  1.519304   \n",
      "\n",
      "   Sample 3 : Sample 2...100  Species  \n",
      "0                  -1.043919    mouse  \n",
      "1                   1.798046    mouse  \n",
      "2                   1.044168    mouse  \n",
      "3                   1.142216    mouse  \n",
      "4                  -1.020821    mouse  \n",
      "\n",
      "[5 rows x 102 columns]\n",
      "\n",
      "        Unnamed: 0        Index  Index in Detail  Sample2vSample1  \\\n",
      "count  2018.000000  2018.000000      2018.000000      2018.000000   \n",
      "mean   1009.500000  1033.777998      2913.418731         1.279403   \n",
      "std     582.690741   594.421989      1668.082418        27.528815   \n",
      "min       1.000000     2.000000         3.000000      -203.715534   \n",
      "25%     505.250000   522.250000      1504.500000        -1.665437   \n",
      "50%    1009.500000  1026.500000      2996.000000        -1.014306   \n",
      "75%    1513.750000  1550.750000      4413.250000         1.729253   \n",
      "max    2018.000000  2065.000000      5602.000000       936.011258   \n",
      "\n",
      "       Sample3vSample2  Max Abundance     Max % CV           kD       Charge  \\\n",
      "count      2018.000000   2.018000e+03  2018.000000  2018.000000  2018.000000   \n",
      "mean         -1.406624   2.467994e+09     0.224692    81.616254     2.476710   \n",
      "std          21.056734   7.095921e+10     0.214756   147.735273     0.651228   \n",
      "min        -777.057420   4.939368e+05     0.008642     5.700000     2.000000   \n",
      "25%          -1.644311   1.888810e+07     0.081589    28.800000     2.000000   \n",
      "50%          -0.001329   5.592425e+07     0.148701    49.800000     2.000000   \n",
      "75%           1.525002   1.573614e+08     0.291852    82.600000     3.000000   \n",
      "max         110.444099   3.061106e+12     1.413888  3904.100000     5.000000   \n",
      "\n",
      "         Calc. m/z  ...  Sample 3 : Sample 2...91  \\\n",
      "count  2018.000000  ...               2018.000000   \n",
      "mean    612.529831  ...                 -1.319870   \n",
      "std     154.402475  ...                 20.694320   \n",
      "min     303.834880  ...               -762.473322   \n",
      "25%     493.783425  ...                 -1.613450   \n",
      "50%     594.319770  ...                  1.017779   \n",
      "75%     715.600237  ...                  1.554172   \n",
      "max    1176.267730  ...                112.556602   \n",
      "\n",
      "       Run 1 Sample 2 : Sample 1...92  Run 1 Sample 3 : Sample 1...93  \\\n",
      "count                     2013.000000                     2001.000000   \n",
      "mean                         0.879165                        0.250838   \n",
      "std                         19.998053                        7.718443   \n",
      "min                       -222.512122                     -117.438348   \n",
      "25%                         -1.875594                       -1.510675   \n",
      "50%                         -1.020238                       -1.015961   \n",
      "75%                          1.860579                        1.607895   \n",
      "max                        714.066966                      249.125544   \n",
      "\n",
      "       Run 1 Sample 3 : Sample 2...94  Run 2 Sample 2 : Sample 1...95  \\\n",
      "count                     2013.000000                     1683.000000   \n",
      "mean                        -1.125806                        0.817661   \n",
      "std                         12.058821                       16.212920   \n",
      "min                       -246.462926                      -91.934119   \n",
      "25%                         -1.726512                       -1.659324   \n",
      "50%                         -1.003950                        1.003698   \n",
      "75%                          1.547490                        1.636492   \n",
      "max                        116.977483                      486.495120   \n",
      "\n",
      "       Run 2 Sample 3 : Sample 1...96  Run 2 Sample 3 : Sample 2...97  \\\n",
      "count                     1681.000000                     1680.000000   \n",
      "mean                        -0.521404                       -0.801872   \n",
      "std                          9.439513                       16.018600   \n",
      "min                       -308.531548                     -492.050810   \n",
      "25%                         -1.531959                       -1.610224   \n",
      "50%                         -1.001846                       -1.005023   \n",
      "75%                          1.572797                        1.683865   \n",
      "max                         25.839960                      137.942119   \n",
      "\n",
      "       Sample 2 : Sample 1...98  Sample 3 : Sample 1...99  \\\n",
      "count               2018.000000               2010.000000   \n",
      "mean                   1.279403                  0.203680   \n",
      "std                   27.528815                  7.177238   \n",
      "min                 -203.715534               -118.684240   \n",
      "25%                   -1.665437                 -1.434869   \n",
      "50%                   -1.014306                 -1.008623   \n",
      "75%                    1.729253                  1.503067   \n",
      "max                  936.011258                246.510339   \n",
      "\n",
      "       Sample 3 : Sample 2...100  \n",
      "count                2018.000000  \n",
      "mean                   -1.406624  \n",
      "std                    21.056734  \n",
      "min                  -777.057420  \n",
      "25%                    -1.644311  \n",
      "50%                    -0.001329  \n",
      "75%                     1.525002  \n",
      "max                   110.444099  \n",
      "\n",
      "[8 rows x 93 columns]\n"
     ]
    }
   ],
   "source": [
    "print(\"proteomics_ack shape is \", proteomics_ack.shape)\n",
    "print()\n",
    "\n",
    "print(proteomics_ack.head())\n",
    "print()\n",
    "\n",
    "print(proteomics_ack.describe())"
   ]
  },
  {
   "cell_type": "code",
   "execution_count": 5,
   "metadata": {},
   "outputs": [],
   "source": [
    "proteomics_ack['Gene Name'] = proteomics_ack['Gene Name'].str.split(';').str[0]\n",
    "proteomics_ack['Protein Name'] = proteomics_ack['Protein Name'].str.split(';').str[0]"
   ]
  },
  {
   "cell_type": "markdown",
   "metadata": {},
   "source": [
    "### Plotting the frequency or distribution of the counts in detail or number of fragments."
   ]
  },
  {
   "cell_type": "code",
   "execution_count": 6,
   "metadata": {},
   "outputs": [
    {
     "data": {
      "image/png": "[encoded data removed]",
      "text/plain": [
       "<Figure size 720x432 with 1 Axes>"
      ]
     },
     "metadata": {
      "needs_background": "light"
     },
     "output_type": "display_data"
    }
   ],
   "source": [
    "plt.rcParams[\"figure.figsize\"] = [10, 6]\n",
    "\n",
    "proteomics_ack = proteomics_ack.replace(np.nan,0)\n",
    "\n",
    "ax = proteomics_ack['Count In Details'].value_counts().plot(kind='bar', color=\"indigo\", fontsize=13);\n",
    "ax.set_alpha(0.8)\n",
    "ax.set_title(\"Count In Details\", fontsize=22)\n",
    "ax.set_ylabel(\"Frequency\", fontsize=15);\n",
    "plt.show()"
   ]
  },
  {
   "cell_type": "code",
   "execution_count": 7,
   "metadata": {},
   "outputs": [
    {
     "data": {
      "image/png": "[encoded data removed]",
      "text/plain": [
       "<Figure size 720x432 with 1 Axes>"
      ]
     },
     "metadata": {
      "needs_background": "light"
     },
     "output_type": "display_data"
    },
    {
     "data": {
      "text/html": [
       "<div>\n",
       "<style scoped>\n",
       "    .dataframe tbody tr th:only-of-type {\n",
       "        vertical-align: middle;\n",
       "    }\n",
       "\n",
       "    .dataframe tbody tr th {\n",
       "        vertical-align: top;\n",
       "    }\n",
       "\n",
       "    .dataframe thead th {\n",
       "        text-align: right;\n",
       "    }\n",
       "</style>\n",
       "<table border=\"1\" class=\"dataframe\">\n",
       "  <thead>\n",
       "    <tr style=\"text-align: right;\">\n",
       "      <th></th>\n",
       "      <th>Num Sites</th>\n",
       "    </tr>\n",
       "    <tr>\n",
       "      <th>Protein Name</th>\n",
       "      <th></th>\n",
       "    </tr>\n",
       "  </thead>\n",
       "  <tbody>\n",
       "    <tr>\n",
       "      <th>EPS15R</th>\n",
       "      <td>5</td>\n",
       "    </tr>\n",
       "    <tr>\n",
       "      <th>ArgBP2</th>\n",
       "      <td>5</td>\n",
       "    </tr>\n",
       "    <tr>\n",
       "      <th>14-3-3 beta</th>\n",
       "      <td>8</td>\n",
       "    </tr>\n",
       "    <tr>\n",
       "      <th>14-3-3 beta</th>\n",
       "      <td>5</td>\n",
       "    </tr>\n",
       "    <tr>\n",
       "      <th>ARHGAP6</th>\n",
       "      <td>4</td>\n",
       "    </tr>\n",
       "    <tr>\n",
       "      <th>...</th>\n",
       "      <td>...</td>\n",
       "    </tr>\n",
       "    <tr>\n",
       "      <th>KANSL1</th>\n",
       "      <td>4</td>\n",
       "    </tr>\n",
       "    <tr>\n",
       "      <th>KHDC4</th>\n",
       "      <td>4</td>\n",
       "    </tr>\n",
       "    <tr>\n",
       "      <th>UBN2</th>\n",
       "      <td>4</td>\n",
       "    </tr>\n",
       "    <tr>\n",
       "      <th>CDP138 iso2</th>\n",
       "      <td>4</td>\n",
       "    </tr>\n",
       "    <tr>\n",
       "      <th>GBP2</th>\n",
       "      <td>4</td>\n",
       "    </tr>\n",
       "  </tbody>\n",
       "</table>\n",
       "<p>93 rows × 1 columns</p>\n",
       "</div>"
      ],
      "text/plain": [
       "              Num Sites\n",
       "Protein Name           \n",
       "EPS15R                5\n",
       "ArgBP2                5\n",
       "14-3-3 beta           8\n",
       "14-3-3 beta           5\n",
       "ARHGAP6               4\n",
       "...                 ...\n",
       "KANSL1                4\n",
       "KHDC4                 4\n",
       "UBN2                  4\n",
       "CDP138 iso2           4\n",
       "GBP2                  4\n",
       "\n",
       "[93 rows x 1 columns]"
      ]
     },
     "execution_count": 7,
     "metadata": {},
     "output_type": "execute_result"
    }
   ],
   "source": [
    "proteomics_ack['Num Sites'] = proteomics_ack['Site'].str.split(';').str.len()\n",
    "df = proteomics_ack[['Num Sites', 'Protein Name']].copy().drop_duplicates()\n",
    "\n",
    "# Filtering out the protein with three or less sites\n",
    "df = df[df['Num Sites'] > 3]\n",
    "df = df.set_index('Protein Name')\n",
    "\n",
    "\n",
    "ax = df.plot(kind='bar', color=\"indigo\", fontsize=10, linewidth= 3)\n",
    "ax.set_alpha(0.8)\n",
    "ax.set_title(\"Number of Sites per Protein\", fontsize=22)\n",
    "ax.set_ylabel(\"Frequency\", fontsize=15);\n",
    "ax.set_xticklabels\n",
    "plt.show()\n",
    "\n",
    "\n",
    "df\n"
   ]
  },
  {
   "cell_type": "code",
   "execution_count": null,
   "metadata": {},
   "outputs": [],
   "source": []
  },
  {
   "cell_type": "code",
   "execution_count": null,
   "metadata": {},
   "outputs": [],
   "source": []
  },
  {
   "cell_type": "code",
   "execution_count": null,
   "metadata": {},
   "outputs": [],
   "source": []
  }
 ],
 "metadata": {
  "interpreter": {
   "hash": "383e6d16613a8d07dd7f875ded753590922bf95e8071b8f0edd2d4a3f4b96e41"
  },
  "kernelspec": {
   "display_name": "Python 3.8.3 ('base')",
   "language": "python",
   "name": "python3"
  },
  "language_info": {
   "codemirror_mode": {
    "name": "ipython",
    "version": 3
   },
   "file_extension": ".py",
   "mimetype": "text/x-python",
   "name": "python",
   "nbconvert_exporter": "python",
   "pygments_lexer": "ipython3",
   "version": "3.8.3"
  },
  "orig_nbformat": 4
 },
 "nbformat": 4,
 "nbformat_minor": 2
}
